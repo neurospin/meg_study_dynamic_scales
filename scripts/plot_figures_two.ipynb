{
 "cells": [
  {
   "cell_type": "code",
   "execution_count": 1,
   "metadata": {
    "collapsed": false
   },
   "outputs": [
    {
     "data": {
      "text/html": [
       "<script>jQuery(function() {if (jQuery(\"body.notebook_app\").length == 0) { jQuery(\".input_area\").toggle(); jQuery(\".prompt\").toggle();}});</script>"
      ]
     },
     "metadata": {},
     "output_type": "display_data"
    },
    {
     "data": {
      "text/html": [
       "<button onclick=\"jQuery('.input_area').toggle(); jQuery('.prompt').toggle();\">Toggle code</button>"
      ]
     },
     "metadata": {},
     "output_type": "display_data"
    }
   ],
   "source": [
    "import IPython.core.display as di\n",
    "\n",
    "# This line will hide code by default when the notebook is exported as HTML\n",
    "di.display_html('<script>jQuery(function() {if (jQuery(\"body.notebook_app\").length == 0) '\n",
    "                '{ jQuery(\".input_area\").toggle(); jQuery(\".prompt\").toggle();}});</script>',\n",
    "                raw=True)\n",
    "\n",
    "# This line will add a button to toggle visibility of code blocks, for use with the HTML export version\n",
    "di.display_html('''<button onclick=\"jQuery('.input_area').toggle(); jQuery('.prompt').toggle();\">Toggle code</button>''', raw=True)\n"
   ]
  },
  {
   "cell_type": "code",
   "execution_count": 1,
   "metadata": {
    "collapsed": true
   },
   "outputs": [],
   "source": [
    "import glob\n",
    "import os.path as op\n",
    "import numpy as np\n",
    "import matplotlib.pyplot as plt\n",
    "import pandas as pd\n",
    "from mne.externals.h5io import read_hdf5, write_hdf5\n",
    "\n",
    "from scipy.signal import detrend\n",
    "from scipy.stats import trim_mean\n",
    "\n",
    "from scipy.stats import kendalltau, pearsonr\n",
    "\n",
    "from sklearn.decomposition import PCA\n",
    "from sklearn.metrics import r2_score\n",
    "from sklearn.metrics import mean_squared_error\n",
    "from sklearn.linear_model import LinearRegression\n",
    "from sklearn.metrics import mean_squared_error, r2_score\n",
    "\n",
    "import mne\n",
    "from mne.utils import _time_mask as freq_mask\n",
    "\n",
    "from library.stats import compute_corr\n",
    "\n",
    "from library.downloaders import get_single_trial_source_psd\n",
    "\n",
    "from library.stats import compute_log_linear_fit"
   ]
  },
  {
   "cell_type": "code",
   "execution_count": 2,
   "metadata": {
    "collapsed": true
   },
   "outputs": [],
   "source": [
    "mne.utils.set_log_level('warning')"
   ]
  },
  {
   "cell_type": "code",
   "execution_count": 3,
   "metadata": {
    "collapsed": true
   },
   "outputs": [],
   "source": [
    "%reload_ext autoreload\n",
    "%autoreload 2"
   ]
  },
  {
   "cell_type": "markdown",
   "metadata": {},
   "source": [
    "### loading source data"
   ]
  },
  {
   "cell_type": "code",
   "execution_count": 6,
   "metadata": {
    "collapsed": false
   },
   "outputs": [
    {
     "name": "stdout",
     "output_type": "stream",
     "text": [
      "Elapsed time downloading hcp-openaccess from s3 00:00:00\n",
      "could not get hcp-meg/100307/psds-r0-1-150-times.npy : it does not exist\n",
      "Elapsed time downloading hcp-meg-data from s3 00:00:00\n",
      "calling \"download_only./home/ubuntu/github/meg_study_dynamic_scales/scripts/hcp_compute_subject\" with:\n",
      "\tsubject: 100307\n",
      "downloading only\n",
      "uploading /mnt/hcp-meg/100307/download_only/2016-05-10_18-50-47/call.txt\n",
      "uploading /mnt/hcp-meg/100307/download_only/2016-05-10_18-50-47/script.py\n",
      "uploading /mnt/hcp-meg/100307/download_only/2016-05-10_18-50-47/run_output.log\n",
      "uploading /mnt/hcp-meg/100307/download_only/2016-05-10_18-50-47/hcp_compute_subject.py\n",
      "uploading /mnt/hcp-meg/100307/download_only/2016-05-10_18-50-47/call.txt\n",
      "uploading /mnt/hcp-meg/100307/download_only/2016-05-10_18-50-47/run_time.json\n",
      "uploading /mnt/hcp-meg/100307/download_only/2016-05-10_18-50-47/report.html\n",
      "uploading /mnt/hcp-meg/100307/download_only/2016-05-10_18-50-47/done\n",
      "uploading /mnt/hcp-meg/100307/download_only/2016-05-10_18-50-47/written_files.txt\n",
      "Elapsed time uploading to s3 00:00:01\n",
      "Elapsed time for running scripts 00:00:02\n"
     ]
    },
    {
     "name": "stderr",
     "output_type": "stream",
     "text": [
      "/home/ubuntu/miniconda2/envs/swish/lib/python2.7/site-packages/matplotlib/__init__.py:1350: UserWarning:  This call to matplotlib.use() has no effect\n",
      "because the backend has already been chosen;\n",
      "matplotlib.use() must be called *before* pylab, matplotlib.pyplot,\n",
      "or matplotlib.backends is imported for the first time.\n",
      "\n",
      "  warnings.warn(_use_error_msg)\n"
     ]
    }
   ],
   "source": [
    "# %run hcp_compute_subject.py --subject 100307 --s3 --downloaders \\\n",
    "#     \"/home/ubuntu/github/swish/aws_scripts/library:downloaders.get_single_trial_source_psd\" --keep_files \\\n",
    "#     --hcp_no_meg --hcp_no_anat"
   ]
  },
  {
   "cell_type": "code",
   "execution_count": 158,
   "metadata": {
    "collapsed": false
   },
   "outputs": [
    {
     "name": "stdout",
     "output_type": "stream",
     "text": [
      "Elapsed time downloading hcp-openaccess from s3 00:00:00\n",
      "Elapsed time downloading hcp-meg-data from s3 00:00:00\n",
      "calling \"download_only./home/ubuntu/github/meg_study_dynamic_scales/scripts/hcp_compute_subject\" with:\n",
      "\tsubject: 100307\n",
      "downloading only\n",
      "uploading /mnt/hcp-meg/100307/download_only/2016-05-11_11-46-49/call.txt\n",
      "uploading /mnt/hcp-meg/100307/download_only/2016-05-11_11-46-49/call.txt\n",
      "uploading /mnt/hcp-meg/100307/download_only/2016-05-11_11-46-49/run_output.log\n",
      "uploading /mnt/hcp-meg/100307/download_only/2016-05-11_11-46-49/run_time.json\n",
      "uploading /mnt/hcp-meg/100307/download_only/2016-05-11_11-46-49/hcp_compute_subject.py\n",
      "uploading /mnt/hcp-meg/100307/download_only/2016-05-11_11-46-49/script.py\n",
      "uploading /mnt/hcp-meg/100307/download_only/2016-05-11_11-46-49/report.html\n",
      "uploading /mnt/hcp-meg/100307/download_only/2016-05-11_11-46-49/done\n",
      "uploading /mnt/hcp-meg/100307/download_only/2016-05-11_11-46-49/written_files.txt\n",
      "Elapsed time uploading to s3 00:00:01\n",
      "Elapsed time for running scripts 00:00:01\n"
     ]
    }
   ],
   "source": [
    "# %run hcp_compute_subject.py --subject 100307 --s3 --downloaders \\\n",
    "#     \"/home/ubuntu/github/swish/aws_scripts/library:downloaders.get_psds_times\" --keep_files \\\n",
    "#     --hcp_no_meg --hcp_no_anat"
   ]
  },
  {
   "cell_type": "markdown",
   "metadata": {},
   "source": [
    "### get all file names and group by run"
   ]
  },
  {
   "cell_type": "code",
   "execution_count": 4,
   "metadata": {
    "collapsed": false
   },
   "outputs": [],
   "source": [
    "stc_files = dict(r0=list(), r1=list(), r2=list())\n",
    "for fname in glob.glob('/mnt/hcp-meg/100307/*stc'):\n",
    "    for pattern in get_single_trial_source_psd('100307')['key_list']:\n",
    "        if glob.fnmatch.fnmatch(fname, '*' + pattern):\n",
    "            if 'r1' in fname:\n",
    "                key = 'r1'\n",
    "            elif 'r2' in fname:\n",
    "                key = 'r2'\n",
    "            else:\n",
    "                key = 'r0'\n",
    "            stc_files[key].append(fname)"
   ]
  },
  {
   "cell_type": "markdown",
   "metadata": {},
   "source": [
    "## compute grand average alpha"
   ]
  },
  {
   "cell_type": "code",
   "execution_count": 8,
   "metadata": {
    "collapsed": true
   },
   "outputs": [],
   "source": [
    "X = 0.\n",
    "for ii, fnames in enumerate(sum(stc_files.values(), [])):\n",
    "    stc = mne.read_source_estimate(fname)\n",
    "    X += np.log10(stc.data)\n",
    "stc._data = X\n",
    "stc._data /= ii"
   ]
  },
  {
   "cell_type": "markdown",
   "metadata": {},
   "source": [
    "## compute grand average 1/f"
   ]
  },
  {
   "cell_type": "code",
   "execution_count": 15,
   "metadata": {
    "collapsed": false
   },
   "outputs": [],
   "source": [
    "def stc_gen(stc_files):\n",
    "    for ii, fnames in enumerate(sum(stc_files.values(), [])):\n",
    "        stc = mne.read_source_estimate(fname)\n",
    "        yield stc.data\n",
    "\n",
    "coefs_, _, mse_, _ = compute_log_linear_fit(\n",
    "    stc_gen(stc_files), freqs=np.linspace(0.001, 127, len(stc.times)), sfmin=0.1, sfmax=1.,\n",
    "    log_fun=np.log10)"
   ]
  },
  {
   "cell_type": "markdown",
   "metadata": {},
   "source": [
    "## compute label time courses for all runs"
   ]
  },
  {
   "cell_type": "code",
   "execution_count": 17,
   "metadata": {
    "collapsed": true
   },
   "outputs": [],
   "source": [
    "from library.workflows import get_brodmann_labels\n",
    "written_files = get_brodmann_labels(spacing='oct5', subjects_dir='/home/ubuntu/freesurfer/subjects')"
   ]
  },
  {
   "cell_type": "code",
   "execution_count": 25,
   "metadata": {
    "collapsed": false
   },
   "outputs": [
    {
     "data": {
      "text/plain": [
       "['Brodmann-oct5.9-rh.label',\n",
       " 'Brodmann-oct5.29-rh.label',\n",
       " 'Brodmann-oct5.45-rh.label',\n",
       " 'Brodmann-oct5.38-lh.label',\n",
       " 'Brodmann-oct5.3-rh.label',\n",
       " 'Brodmann-oct5.23-rh.label',\n",
       " 'Brodmann-oct5.24-rh.label',\n",
       " 'Brodmann-oct5.26-lh.label',\n",
       " 'Brodmann-oct5.37-lh.label',\n",
       " 'Brodmann-oct5.18-lh.label']"
      ]
     },
     "execution_count": 25,
     "metadata": {},
     "output_type": "execute_result"
    }
   ],
   "source": [
    "if not op.exists('/mnt/hcp-subjects'):\n",
    "    os.mkdir('/mnt/hcp-subjects')\n",
    "\n",
    "if not op.exists('/mnt/hcp-subjects/fsaverage'):\n",
    "    os.symlink('/home/ubuntu/freesurfer/subjects/fsaverage',\n",
    "               '/mnt/hcp-subjects/fsaverage')\n",
    "[f for f in os.listdir('/mnt/hcp-subjects/fsaverage/label') if 'oct5' in f][:10]"
   ]
  },
  {
   "cell_type": "code",
   "execution_count": 23,
   "metadata": {
    "collapsed": false
   },
   "outputs": [],
   "source": [
    "src_orig = mne.setup_source_space(subject='fsaverage', fname=None, spacing='oct5', add_dist=False,\n",
    "                                  subjects_dir='/mnt/hcp-subjects')"
   ]
  },
  {
   "cell_type": "code",
   "execution_count": 101,
   "metadata": {
    "collapsed": false
   },
   "outputs": [],
   "source": [
    "label_tcs = list()\n",
    "for ii, fname in enumerate(sum(stc_files.values(), [])):\n",
    "    stc = mne.read_source_estimate(fname)\n",
    "    stc.subject = '100307'\n",
    "    stc = stc.to_original_src(src_orig, 'fsaverage', subjects_dir=hcp_subjects_dir)\n",
    "    label_tcs.append(\n",
    "        np.array(\n",
    "            [stc.extract_label_time_course(label, src_orig, mode='mean')\n",
    "             for label in labels]))"
   ]
  },
  {
   "cell_type": "code",
   "execution_count": 106,
   "metadata": {
    "collapsed": false
   },
   "outputs": [
    {
     "name": "stdout",
     "output_type": "stream",
     "text": [
      "(338, 82, 3815)\n"
     ]
    }
   ],
   "source": [
    "label_tcs = np.array(label_tcs)[:, :, 0, :]\n",
    "print(label_tcs.shape)"
   ]
  },
  {
   "cell_type": "code",
   "execution_count": 126,
   "metadata": {
    "collapsed": false,
    "scrolled": true
   },
   "outputs": [
    {
     "data": {
      "text/plain": [
       "(-1.0, 2.0)"
      ]
     },
     "execution_count": 126,
     "metadata": {},
     "output_type": "execute_result"
    },
    {
     "data": {
      "image/png": "[encoded data removed]",
      "text/plain": [
       "<matplotlib.figure.Figure at 0x7f428b5cd490>"
      ]
     },
     "metadata": {},
     "output_type": "display_data"
    }
   ],
   "source": [
    "%matplotlib inline\n",
    "freqs = np.linspace(0.001, 127, len(stc.times))\n",
    "X = np.log10(label_tcs).std(0).T\n",
    "X_mean = X.mean(1)\n",
    "X_std = X.std(1)\n",
    "plt.plot(np.log10(freqs), X_mean, color='steelblue');\n",
    "plt.fill_between(np.log10(freqs), X_mean - X_std, X_mean + X_std, color='steelblue', alpha=0.2);\n",
    "plt.xticks(np.log10([0.1, 1, 10, 100]), [0.1, 1, 10, 100])\n",
    "plt.xlim(np.log10([0.1, 100]))"
   ]
  },
  {
   "cell_type": "markdown",
   "metadata": {},
   "source": [
    "## compute grand average correlations on label time courses"
   ]
  },
  {
   "cell_type": "code",
   "execution_count": 6,
   "metadata": {
    "collapsed": false
   },
   "outputs": [],
   "source": [
    "from library.workflows import compute_source_outputs"
   ]
  },
  {
   "cell_type": "code",
   "execution_count": null,
   "metadata": {
    "collapsed": false
   },
   "outputs": [],
   "source": [
    "# %%bash\n",
    "# python hcp_compute_subject.py --subject 100307 --fun_path \\\n",
    "%run hcp_compute_subject.py --subject 100307 --fun_path \\\n",
    "    \"/home/ubuntu/github/swish/aws_scripts/library:workflows.compute_source_outputs\" \\\n",
    "    --keep_files \\\n",
    "    --s3 \\\n",
    "    --hcp_no_anat \\\n",
    "    --hcp_no_meg \\\n",
    "    --hcp_run_inds 0 \\\n",
    "    --mkl_num_threads 4 \\\n",
    "    --fun_args --spacing oct5 --hcp_subjects_dir /mnt/hcp-subjects"
   ]
  },
  {
   "cell_type": "code",
   "execution_count": 188,
   "metadata": {
    "collapsed": false
   },
   "outputs": [
    {
     "data": {
      "text/plain": [
       "['power-0-150-lh.stc',\n",
       " 'power-0-150-rh.stc',\n",
       " 'power-0-150-lh.stc',\n",
       " 'power-0-150-rh.stc',\n",
       " 'power-0-150-lh.stc',\n",
       " 'power-0-150-rh.stc']"
      ]
     },
     "execution_count": 188,
     "metadata": {},
     "output_type": "execute_result"
    }
   ],
   "source": [
    "out"
   ]
  },
  {
   "cell_type": "code",
   "execution_count": 194,
   "metadata": {
    "collapsed": false
   },
   "outputs": [
    {
     "data": {
      "text/plain": [
       "[<Label  |  unknown, 'Brodmann-oct5.1-lh', lh : 42 vertices>,\n",
       " <Label  |  unknown, 'Brodmann-oct5.1-rh', rh : 35 vertices>,\n",
       " <Label  |  unknown, 'Brodmann-oct5.2-lh', lh : 52 vertices>,\n",
       " <Label  |  unknown, 'Brodmann-oct5.2-rh', rh : 43 vertices>,\n",
       " <Label  |  unknown, 'Brodmann-oct5.3-lh', lh : 37 vertices>,\n",
       " <Label  |  unknown, 'Brodmann-oct5.3-rh', rh : 39 vertices>,\n",
       " <Label  |  unknown, 'Brodmann-oct5.4-lh', lh : 83 vertices>,\n",
       " <Label  |  unknown, 'Brodmann-oct5.4-rh', rh : 80 vertices>,\n",
       " <Label  |  unknown, 'Brodmann-oct5.5-lh', lh : 21 vertices>,\n",
       " <Label  |  unknown, 'Brodmann-oct5.5-rh', rh : 22 vertices>,\n",
       " <Label  |  unknown, 'Brodmann-oct5.6-lh', lh : 77 vertices>,\n",
       " <Label  |  unknown, 'Brodmann-oct5.6-rh', rh : 76 vertices>,\n",
       " <Label  |  unknown, 'Brodmann-oct5.7-lh', lh : 75 vertices>,\n",
       " <Label  |  unknown, 'Brodmann-oct5.7-rh', rh : 70 vertices>,\n",
       " <Label  |  unknown, 'Brodmann-oct5.8-lh', lh : 26 vertices>,\n",
       " <Label  |  unknown, 'Brodmann-oct5.8-rh', rh : 32 vertices>,\n",
       " <Label  |  unknown, 'Brodmann-oct5.9-lh', lh : 36 vertices>,\n",
       " <Label  |  unknown, 'Brodmann-oct5.9-rh', rh : 37 vertices>,\n",
       " <Label  |  unknown, 'Brodmann-oct5.10-lh', lh : 39 vertices>,\n",
       " <Label  |  unknown, 'Brodmann-oct5.10-rh', rh : 39 vertices>,\n",
       " <Label  |  unknown, 'Brodmann-oct5.11-lh', lh : 43 vertices>,\n",
       " <Label  |  unknown, 'Brodmann-oct5.11-rh', rh : 53 vertices>,\n",
       " <Label  |  unknown, 'Brodmann-oct5.17-lh', lh : 27 vertices>,\n",
       " <Label  |  unknown, 'Brodmann-oct5.17-rh', rh : 21 vertices>,\n",
       " <Label  |  unknown, 'Brodmann-oct5.18-lh', lh : 60 vertices>,\n",
       " <Label  |  unknown, 'Brodmann-oct5.18-rh', rh : 56 vertices>,\n",
       " <Label  |  unknown, 'Brodmann-oct5.19-lh', lh : 95 vertices>,\n",
       " <Label  |  unknown, 'Brodmann-oct5.19-rh', rh : 103 vertices>,\n",
       " <Label  |  unknown, 'Brodmann-oct5.20-lh', lh : 47 vertices>,\n",
       " <Label  |  unknown, 'Brodmann-oct5.20-rh', rh : 44 vertices>,\n",
       " <Label  |  unknown, 'Brodmann-oct5.21-lh', lh : 22 vertices>,\n",
       " <Label  |  unknown, 'Brodmann-oct5.21-rh', rh : 27 vertices>,\n",
       " <Label  |  unknown, 'Brodmann-oct5.22-lh', lh : 66 vertices>,\n",
       " <Label  |  unknown, 'Brodmann-oct5.22-rh', rh : 56 vertices>,\n",
       " <Label  |  unknown, 'Brodmann-oct5.23-lh', lh : 17 vertices>,\n",
       " <Label  |  unknown, 'Brodmann-oct5.23-rh', rh : 22 vertices>,\n",
       " <Label  |  unknown, 'Brodmann-oct5.24-lh', lh : 45 vertices>,\n",
       " <Label  |  unknown, 'Brodmann-oct5.24-rh', rh : 42 vertices>,\n",
       " <Label  |  unknown, 'Brodmann-oct5.25-lh', lh : 5 vertices>,\n",
       " <Label  |  unknown, 'Brodmann-oct5.25-rh', rh : 7 vertices>,\n",
       " <Label  |  unknown, 'Brodmann-oct5.26-lh', lh : 3 vertices>,\n",
       " <Label  |  unknown, 'Brodmann-oct5.26-rh', rh : 5 vertices>,\n",
       " <Label  |  unknown, 'Brodmann-oct5.27-lh', lh : 7 vertices>,\n",
       " <Label  |  unknown, 'Brodmann-oct5.27-rh', rh : 6 vertices>,\n",
       " <Label  |  unknown, 'Brodmann-oct5.28-lh', lh : 14 vertices>,\n",
       " <Label  |  unknown, 'Brodmann-oct5.28-rh', rh : 9 vertices>,\n",
       " <Label  |  unknown, 'Brodmann-oct5.29-lh', lh : 5 vertices>,\n",
       " <Label  |  unknown, 'Brodmann-oct5.29-rh', rh : 7 vertices>,\n",
       " <Label  |  unknown, 'Brodmann-oct5.30-lh', lh : 5 vertices>,\n",
       " <Label  |  unknown, 'Brodmann-oct5.30-rh', rh : 10 vertices>,\n",
       " <Label  |  unknown, 'Brodmann-oct5.31-lh', lh : 28 vertices>,\n",
       " <Label  |  unknown, 'Brodmann-oct5.31-rh', rh : 28 vertices>,\n",
       " <Label  |  unknown, 'Brodmann-oct5.32-lh', lh : 31 vertices>,\n",
       " <Label  |  unknown, 'Brodmann-oct5.32-rh', rh : 28 vertices>,\n",
       " <Label  |  unknown, 'Brodmann-oct5.33-lh', lh : 9 vertices>,\n",
       " <Label  |  unknown, 'Brodmann-oct5.33-rh', rh : 39 vertices>,\n",
       " <Label  |  unknown, 'Brodmann-oct5.35-lh', lh : 8 vertices>,\n",
       " <Label  |  unknown, 'Brodmann-oct5.35-rh', rh : 8 vertices>,\n",
       " <Label  |  unknown, 'Brodmann-oct5.36-lh', lh : 19 vertices>,\n",
       " <Label  |  unknown, 'Brodmann-oct5.36-rh', rh : 18 vertices>,\n",
       " <Label  |  unknown, 'Brodmann-oct5.37-lh', lh : 39 vertices>,\n",
       " <Label  |  unknown, 'Brodmann-oct5.37-rh', rh : 49 vertices>,\n",
       " <Label  |  unknown, 'Brodmann-oct5.38-lh', lh : 18 vertices>,\n",
       " <Label  |  unknown, 'Brodmann-oct5.38-rh', rh : 28 vertices>,\n",
       " <Label  |  unknown, 'Brodmann-oct5.39-lh', lh : 39 vertices>,\n",
       " <Label  |  unknown, 'Brodmann-oct5.39-rh', rh : 35 vertices>,\n",
       " <Label  |  unknown, 'Brodmann-oct5.40-lh', lh : 48 vertices>,\n",
       " <Label  |  unknown, 'Brodmann-oct5.40-rh', rh : 45 vertices>,\n",
       " <Label  |  unknown, 'Brodmann-oct5.41-lh', lh : 18 vertices>,\n",
       " <Label  |  unknown, 'Brodmann-oct5.41-rh', rh : 19 vertices>,\n",
       " <Label  |  unknown, 'Brodmann-oct5.42-lh', lh : 27 vertices>,\n",
       " <Label  |  unknown, 'Brodmann-oct5.42-rh', rh : 28 vertices>,\n",
       " <Label  |  unknown, 'Brodmann-oct5.43-lh', lh : 14 vertices>,\n",
       " <Label  |  unknown, 'Brodmann-oct5.43-rh', rh : 21 vertices>,\n",
       " <Label  |  unknown, 'Brodmann-oct5.44-lh', lh : 17 vertices>,\n",
       " <Label  |  unknown, 'Brodmann-oct5.44-rh', rh : 18 vertices>,\n",
       " <Label  |  unknown, 'Brodmann-oct5.45-lh', lh : 11 vertices>,\n",
       " <Label  |  unknown, 'Brodmann-oct5.45-rh', rh : 13 vertices>,\n",
       " <Label  |  unknown, 'Brodmann-oct5.46-lh', lh : 28 vertices>,\n",
       " <Label  |  unknown, 'Brodmann-oct5.46-rh', rh : 22 vertices>,\n",
       " <Label  |  unknown, 'Brodmann-oct5.47-lh', lh : 10 vertices>,\n",
       " <Label  |  unknown, 'Brodmann-oct5.47-rh', rh : 11 vertices>]"
      ]
     },
     "execution_count": 194,
     "metadata": {},
     "output_type": "execute_result"
    }
   ],
   "source": [
    "labels"
   ]
  }
 ],
 "metadata": {
  "kernelspec": {
   "display_name": "Python 2",
   "language": "python",
   "name": "python2"
  },
  "language_info": {
   "codemirror_mode": {
    "name": "ipython",
    "version": 2
   },
   "file_extension": ".py",
   "mimetype": "text/x-python",
   "name": "python",
   "nbconvert_exporter": "python",
   "pygments_lexer": "ipython2",
   "version": "2.7.11"
  }
 },
 "nbformat": 4,
 "nbformat_minor": 0
}
