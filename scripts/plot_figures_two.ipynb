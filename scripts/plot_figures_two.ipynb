{
 "cells": [
  {
   "cell_type": "code",
   "execution_count": 1,
   "metadata": {
    "collapsed": false
   },
   "outputs": [
    {
     "data": {
      "text/html": [
       "<script>jQuery(function() {if (jQuery(\"body.notebook_app\").length == 0) { jQuery(\".input_area\").toggle(); jQuery(\".prompt\").toggle();}});</script>"
      ]
     },
     "metadata": {},
     "output_type": "display_data"
    },
    {
     "data": {
      "text/html": [
       "<button onclick=\"jQuery('.input_area').toggle(); jQuery('.prompt').toggle();\">Toggle code</button>"
      ]
     },
     "metadata": {},
     "output_type": "display_data"
    }
   ],
   "source": [
    "import IPython.core.display as di\n",
    "\n",
    "# This line will hide code by default when the notebook is exported as HTML\n",
    "di.display_html('<script>jQuery(function() {if (jQuery(\"body.notebook_app\").length == 0) '\n",
    "                '{ jQuery(\".input_area\").toggle(); jQuery(\".prompt\").toggle();}});</script>',\n",
    "                raw=True)\n",
    "\n",
    "# This line will add a button to toggle visibility of code blocks, for use with the HTML export version\n",
    "di.display_html('''<button onclick=\"jQuery('.input_area').toggle(); jQuery('.prompt').toggle();\">Toggle code</button>''', raw=True)\n"
   ]
  },
  {
   "cell_type": "code",
   "execution_count": 2,
   "metadata": {
    "collapsed": false
   },
   "outputs": [],
   "source": [
    "import glob\n",
    "import os.path as op\n",
    "\n",
    "import numpy as np\n",
    "import matplotlib.pyplot as plt\n",
    "import pandas as pd\n",
    "\n",
    "from scipy.signal import detrend\n",
    "from scipy.stats import trim_mean\n",
    "from scipy.stats import kendalltau, pearsonr\n",
    "\n",
    "from sklearn.decomposition import PCA\n",
    "from sklearn.metrics import r2_score\n",
    "from sklearn.metrics import mean_squared_error\n",
    "from sklearn.linear_model import LinearRegression\n",
    "from sklearn.metrics import mean_squared_error, r2_score\n",
    "\n",
    "import mne\n",
    "from mne.utils import _time_mask as freq_mask\n",
    "from mne.externals.h5io import read_hdf5, write_hdf5\n",
    "\n",
    "from library.stats import compute_corr\n",
    "from library.downloaders import get_single_trial_source_psd\n",
    "from library.stats import compute_log_linear_fit"
   ]
  },
  {
   "cell_type": "code",
   "execution_count": 3,
   "metadata": {
    "collapsed": true
   },
   "outputs": [],
   "source": [
    "mne.utils.set_log_level('warning')"
   ]
  },
  {
   "cell_type": "code",
   "execution_count": 4,
   "metadata": {
    "collapsed": true
   },
   "outputs": [],
   "source": [
    "%reload_ext autoreload\n",
    "%autoreload 2"
   ]
  },
  {
   "cell_type": "markdown",
   "metadata": {},
   "source": [
    "### loading source data"
   ]
  },
  {
   "cell_type": "code",
   "execution_count": 5,
   "metadata": {
    "collapsed": false
   },
   "outputs": [],
   "source": [
    "# %run hcp_compute_subject.py --subject 100307 --s3 --downloaders \\\n",
    "#     \"/home/ubuntu/github/swish/aws_scripts/library:downloaders.get_single_trial_source_psd\" --keep_files \\\n",
    "#     --hcp_no_meg --hcp_no_anat"
   ]
  },
  {
   "cell_type": "code",
   "execution_count": 6,
   "metadata": {
    "collapsed": false
   },
   "outputs": [],
   "source": [
    "# %run hcp_compute_subject.py --subject 100307 --s3 --downloaders \\\n",
    "#     \"/home/ubuntu/github/swish/aws_scripts/library:downloaders.get_psds_times\" --keep_files \\\n",
    "#     --hcp_no_meg --hcp_no_anat"
   ]
  },
  {
   "cell_type": "markdown",
   "metadata": {},
   "source": [
    "### get all file names and group by run"
   ]
  },
  {
   "cell_type": "code",
   "execution_count": 7,
   "metadata": {
    "collapsed": false
   },
   "outputs": [],
   "source": [
    "# stc_files = dict(r0=list(), r1=list(), r2=list())\n",
    "# for fname in glob.glob('/mnt/hcp-meg/100307/*stc'):\n",
    "#     for pattern in get_single_trial_source_psd('100307')['key_list']:\n",
    "#         if glob.fnmatch.fnmatch(fname, '*' + pattern):\n",
    "#             if 'r1' in fname:\n",
    "#                 key = 'r1'\n",
    "#             elif 'r2' in fname:\n",
    "#                 key = 'r2'\n",
    "#             else:\n",
    "#                 key = 'r0'\n",
    "#             stc_files[key].append(fname)"
   ]
  },
  {
   "cell_type": "markdown",
   "metadata": {},
   "source": [
    "## compute grand average alpha"
   ]
  },
  {
   "cell_type": "code",
   "execution_count": 8,
   "metadata": {
    "collapsed": true
   },
   "outputs": [],
   "source": [
    "# X = 0.\n",
    "# for ii, fnames in enumerate(sum(stc_files.values(), [])):\n",
    "#     stc = mne.read_source_estimate(fname)\n",
    "#     X += np.log10(stc.data)\n",
    "# stc._data = X\n",
    "# stc._data /= ii"
   ]
  },
  {
   "cell_type": "markdown",
   "metadata": {},
   "source": [
    "## compute grand average 1/f"
   ]
  },
  {
   "cell_type": "code",
   "execution_count": 9,
   "metadata": {
    "collapsed": false
   },
   "outputs": [],
   "source": [
    "# def stc_gen(stc_files):\n",
    "#     for ii, fnames in enumerate(sum(stc_files.values(), [])):\n",
    "#         stc = mne.read_source_estimate(fname)\n",
    "#         yield stc.data\n",
    "\n",
    "# coefs_, _, mse_, _ = compute_log_linear_fit(\n",
    "#     stc_gen(stc_files), freqs=np.linspace(0.001, 127, len(stc.times)), sfmin=0.1, sfmax=1.,\n",
    "#     log_fun=np.log10)"
   ]
  },
  {
   "cell_type": "markdown",
   "metadata": {},
   "source": [
    "## compute label time courses for all runs"
   ]
  },
  {
   "cell_type": "code",
   "execution_count": 10,
   "metadata": {
    "collapsed": true
   },
   "outputs": [],
   "source": [
    "# from library.workflows import get_brodmann_labels\n",
    "# written_files = get_brodmann_labels(spacing='oct5', subjects_dir='/home/ubuntu/freesurfer/subjects')"
   ]
  },
  {
   "cell_type": "code",
   "execution_count": 11,
   "metadata": {
    "collapsed": false
   },
   "outputs": [],
   "source": [
    "# if not op.exists('/mnt/hcp-subjects'):\n",
    "#     os.mkdir('/mnt/hcp-subjects')\n",
    "\n",
    "# if not op.exists('/mnt/hcp-subjects/fsaverage'):\n",
    "#     os.symlink('/home/ubuntu/freesurfer/subjects/fsaverage',\n",
    "#                '/mnt/hcp-subjects/fsaverage')\n",
    "# [f for f in os.listdir('/mnt/hcp-subjects/fsaverage/label') if 'oct5' in f][:10]"
   ]
  },
  {
   "cell_type": "code",
   "execution_count": 12,
   "metadata": {
    "collapsed": false
   },
   "outputs": [],
   "source": [
    "# src_orig = mne.setup_source_space(subject='fsaverage', fname=None, spacing='oct5', add_dist=False,\n",
    "#                                   subjects_dir='/mnt/hcp-subjects')"
   ]
  },
  {
   "cell_type": "code",
   "execution_count": 13,
   "metadata": {
    "collapsed": false
   },
   "outputs": [],
   "source": [
    "# label_tcs = list()\n",
    "# for ii, fname in enumerate(sum(stc_files.values(), [])):\n",
    "#     stc = mne.read_source_estimate(fname)\n",
    "#     stc.subject = '100307'\n",
    "#     stc = stc.to_original_src(src_orig, 'fsaverage', subjects_dir=hcp_subjects_dir)\n",
    "#     label_tcs.append(\n",
    "#         np.array(\n",
    "#             [stc.extract_label_time_course(label, src_orig, mode='mean')\n",
    "#              for label in labels]))"
   ]
  },
  {
   "cell_type": "code",
   "execution_count": 14,
   "metadata": {
    "collapsed": false
   },
   "outputs": [],
   "source": [
    "# label_tcs = np.array(label_tcs)[:, :, 0, :]\n",
    "# print(label_tcs.shape)"
   ]
  },
  {
   "cell_type": "code",
   "execution_count": 15,
   "metadata": {
    "collapsed": false,
    "scrolled": true
   },
   "outputs": [],
   "source": [
    "# %matplotlib inline\n",
    "# freqs = np.linspace(0.001, 127, len(stc.times))\n",
    "# X = np.log10(label_tcs).std(0).T\n",
    "# X_mean = X.mean(1)\n",
    "# X_std = X.std(1)\n",
    "# plt.plot(np.log10(freqs), X_mean, color='steelblue');\n",
    "# plt.fill_between(np.log10(freqs), X_mean - X_std, X_mean + X_std, color='steelblue', alpha=0.2);\n",
    "# plt.xticks(np.log10([0.1, 1, 10, 100]), [0.1, 1, 10, 100])\n",
    "# plt.xlim(np.log10([0.1, 100]))"
   ]
  },
  {
   "cell_type": "markdown",
   "metadata": {},
   "source": [
    "## compute grand average correlations on label time courses"
   ]
  },
  {
   "cell_type": "code",
   "execution_count": 16,
   "metadata": {
    "collapsed": false
   },
   "outputs": [],
   "source": [
    "df = pd.read_csv('unrelated_MEG_subjects.csv')\n",
    "subjects_missing = pd.read_csv('missing_freesurfer_s900_unrelated.csv').SubjectId.tolist()\n",
    "subjects = ' '.join([str(sub) for sub in df.Subject.tolist() if sub not in subjects_missing])"
   ]
  },
  {
   "cell_type": "code",
   "execution_count": 90,
   "metadata": {
    "collapsed": false
   },
   "outputs": [
    {
     "name": "stderr",
     "output_type": "stream",
     "text": [
      "rm: cannot remove ‘/mnt/swapfile’: Operation not permitted\n"
     ]
    }
   ],
   "source": [
    "%%bash\n",
    "rm -rf /mnt/*\n"
   ]
  },
  {
   "cell_type": "code",
   "execution_count": 91,
   "metadata": {
    "collapsed": false
   },
   "outputs": [
    {
     "name": "stdout",
     "output_type": "stream",
     "text": [
      "swapfile\r\n"
     ]
    }
   ],
   "source": [
    "ls /mnt"
   ]
  },
  {
   "cell_type": "code",
   "execution_count": 92,
   "metadata": {
    "collapsed": false
   },
   "outputs": [
    {
     "name": "stdout",
     "output_type": "stream",
     "text": [
      "Elapsed time downloading hcp-openaccess from s3 00:00:00\n",
      "Elapsed time downloading hcp-meg-data from s3 00:00:00\n",
      "calling \"download_only./home/ubuntu/github/meg_study_dynamic_scales/scripts/hcp_compute_subject\" with:\n",
      "\tsubject: 100307\n",
      "downloading only\n",
      "uploading /mnt/hcp-meg/100307/download_only/2016-05-13_14-46-46/call.txt\n",
      "uploading /mnt/hcp-meg/100307/download_only/2016-05-13_14-46-46/call.txt\n",
      "uploading /mnt/hcp-meg/100307/download_only/2016-05-13_14-46-46/run_output.log\n",
      "uploading /mnt/hcp-meg/100307/download_only/2016-05-13_14-46-46/run_time.json\n",
      "uploading /mnt/hcp-meg/100307/download_only/2016-05-13_14-46-46/hcp_compute_subject.py\n",
      "uploading /mnt/hcp-meg/100307/download_only/2016-05-13_14-46-46/script.py\n",
      "uploading /mnt/hcp-meg/100307/download_only/2016-05-13_14-46-46/report.html\n",
      "uploading /mnt/hcp-meg/100307/download_only/2016-05-13_14-46-46/done\n",
      "uploading /mnt/hcp-meg/100307/download_only/2016-05-13_14-46-46/written_files.txt\n",
      "Elapsed time uploading to s3 00:00:00\n",
      "Elapsed time for running scripts 00:00:01\n"
     ]
    }
   ],
   "source": [
    "%run hcp_compute_subject.py --subject 100307\\\n",
    "    --downloaders \"/home/ubuntu/github/meg_study_dynamic_scales/scripts/library:downloaders.get_psds_times\" \\\n",
    "    --s3 \\\n",
    "    --hcp_no_anat\\\n",
    "    --hcp_no_meg \\\n",
    "    --keep_files \\\n",
    "    --mkl_num_threads 1"
   ]
  },
  {
   "cell_type": "code",
   "execution_count": null,
   "metadata": {
    "collapsed": false
   },
   "outputs": [
    {
     "name": "stdout",
     "output_type": "stream",
     "text": [
      "Elapsed time downloading hcp-openaccess from s3 00:00:02\n",
      "Elapsed time downloading hcp-meg-data from s3 00:00:00\n"
     ]
    }
   ],
   "source": [
    "%run hcp_compute_subject.py --subject 599671\\\n",
    "    --downloaders \"/home/ubuntu/github/meg_study_dynamic_scales//library:downloaders.get_psds_times\" \\\n",
    "                  \"/home/ubuntu/github/meg_study_dynamic_scales//library:downloaders.get_single_trial_source_psd\" \\\n",
    "    --s3 \\\n",
    "    --hcp_no_meg \\\n",
    "    --keep_files \\\n",
    "    --mkl_num_threads 1 \\\n",
    "    --fun_path \"/home/ubuntu/github/meg_study_dynamic_scales/library:workflows.compute_source_outputs\" \\\n",
    "    --fun_args --spacing oct5 --debug False"
   ]
  },
  {
   "cell_type": "code",
   "execution_count": 88,
   "metadata": {
    "collapsed": false,
    "scrolled": false
   },
   "outputs": [
    {
     "name": "stderr",
     "output_type": "stream",
     "text": [
      "rm: cannot remove ‘output.txt’: No such file or directory\n"
     ]
    }
   ],
   "source": [
    "%%bash\n",
    "rm output.txt\n",
    "here=/home/ubuntu/github/meg_study_dynamic_scales/scripts\n",
    "# python ./run_parallel.py --script  hcp_compute_subject.py --par_args 599671\\\n",
    "python ./run_parallel.py --script hcp_compute_subject.py --par_args 599671 665254 825048 877168 814649 912447 200109 662551 872764 898176 660951 568963 191841 153732 559053 917255 352738 715950 783462 680957 512835 177746 255639 601127 433839\\\n",
    "    --par_target subject --sleep 30 --n_par 8 --args \\\n",
    "    --downloaders \"$here/library:downloaders.get_psds_times\" \\\n",
    "                  \"$here/library:downloaders.get_single_trial_source_psd\" \\\n",
    "    --s3 \\\n",
    "    --hcp_no_meg \\\n",
    "    --mkl_num_threads 1 \\\n",
    "    --fun_path \"$here/library:workflows.compute_source_outputs\" \\\n",
    "    --fun_args --spacing oct5 --debug False &> output.txt"
   ]
  },
  {
   "cell_type": "code",
   "execution_count": 89,
   "metadata": {
    "collapsed": true
   },
   "outputs": [],
   "source": [
    "mne.SourceEstimate.to_original_src?"
   ]
  }
 ],
 "metadata": {
  "kernelspec": {
   "display_name": "Python 2",
   "language": "python",
   "name": "python2"
  },
  "language_info": {
   "codemirror_mode": {
    "name": "ipython",
    "version": 2
   },
   "file_extension": ".py",
   "mimetype": "text/x-python",
   "name": "python",
   "nbconvert_exporter": "python",
   "pygments_lexer": "ipython2",
   "version": "2.7.11"
  }
 },
 "nbformat": 4,
 "nbformat_minor": 0
}
