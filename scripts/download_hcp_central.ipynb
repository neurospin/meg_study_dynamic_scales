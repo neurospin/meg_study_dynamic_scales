{
 "cells": [
  {
   "cell_type": "code",
   "execution_count": 1,
   "metadata": {
    "collapsed": false
   },
   "outputs": [],
   "source": [
    "%reload_ext autoreload\n",
    "%autoreload 2\n",
    "\n",
    "from mne.utils import set_log_level\n",
    "\n",
    "import os.path as op\n",
    "import pandas as pd\n",
    "from hcp_central.s3_utils import download_from_s3_bucket, upload_to_s3, update_s3_file_tracking, get_aws_credentials,s3_glob\n",
    "from hcp.io.file_mapping import get_s3_keys_meg, get_s3_keys_anatomy\n",
    "\n",
    "set_log_level(\"warning\")"
   ]
  },
  {
   "cell_type": "code",
   "execution_count": 2,
   "metadata": {
    "collapsed": false
   },
   "outputs": [
    {
     "name": "stdout",
     "output_type": "stream",
     "text": [
      "/home/ubuntu/mne-hcp-data/hcp_restricted_data.csv\r\n",
      "/home/ubuntu/mne-hcp-data/hcp_unrestricted_data.csv\r\n",
      "/home/ubuntu/mne-hcp-data/motor_sensor_unrelated_subjects.csv\r\n",
      "/home/ubuntu/mne-hcp-data/motor_source_unrelated_subjects.csv\r\n",
      "/home/ubuntu/mne-hcp-data/rs_sensor_unrelated_subjects.csv\r\n",
      "/home/ubuntu/mne-hcp-data/rs_source_unrelated_subjects.csv\r\n",
      "/home/ubuntu/mne-hcp-data/storym_sensor_unrelated_subjects.csv\r\n",
      "/home/ubuntu/mne-hcp-data/storym_source_unrelated_subjects.csv\r\n",
      "/home/ubuntu/mne-hcp-data/unrel_subject_processing_map.csv\r\n",
      "/home/ubuntu/mne-hcp-data/wm_sensor_unrelated_subjects.csv\r\n",
      "/home/ubuntu/mne-hcp-data/wm_source_unrelated_subjects.csv\r\n"
     ]
    }
   ],
   "source": [
    "ls /home/ubuntu/mne-hcp-data/*csv"
   ]
  },
  {
   "cell_type": "code",
   "execution_count": 3,
   "metadata": {
    "collapsed": false
   },
   "outputs": [],
   "source": [
    "df = pd.read_csv(op.expanduser('~/mne-hcp-data/unrel_subject_processing_map.csv'))"
   ]
  },
  {
   "cell_type": "code",
   "execution_count": 4,
   "metadata": {
    "collapsed": true
   },
   "outputs": [],
   "source": [
    "subjects_rs = df.Subject[df.unrelated_rs_source].tolist()"
   ]
  },
  {
   "cell_type": "code",
   "execution_count": 5,
   "metadata": {
    "collapsed": true
   },
   "outputs": [],
   "source": [
    "aws_key, aws_secret = get_aws_credentials(\n",
    "    op.join(op.expanduser(\"~\"), \"mne-hcp-aws\", 'aws_hcp_details.csv'))"
   ]
  },
  {
   "cell_type": "code",
   "execution_count": 12,
   "metadata": {
    "collapsed": false
   },
   "outputs": [
    {
     "name": "stdout",
     "output_type": "stream",
     "text": [
      "Downloading /mnt/HCP/105923/MEG/Restin/icaclass/105923_MEG_3-Restin_icaclass_vs.mat from hcp-openaccess\n",
      "Downloading /mnt/HCP/105923/MEG/Restin/icaclass/105923_MEG_3-Restin_icaclass_vs.txt from hcp-openaccess\n",
      "Downloading /mnt/HCP/105923/MEG/Restin/icaclass/105923_MEG_3-Restin_icaclass.mat from hcp-openaccess\n",
      "Downloading /mnt/HCP/105923/MEG/Restin/icaclass/105923_MEG_3-Restin_icaclass.txt from hcp-openaccess\n",
      "Downloading /mnt/HCP/105923/MEG/Restin/icaclass/105923_MEG_4-Restin_icaclass_vs.mat from hcp-openaccess\n",
      "Downloading /mnt/HCP/105923/MEG/Restin/icaclass/105923_MEG_4-Restin_icaclass_vs.txt from hcp-openaccess\n",
      "Downloading /mnt/HCP/105923/MEG/Restin/icaclass/105923_MEG_4-Restin_icaclass.mat from hcp-openaccess\n",
      "Downloading /mnt/HCP/105923/MEG/Restin/icaclass/105923_MEG_4-Restin_icaclass.txt from hcp-openaccess\n",
      "Downloading /mnt/HCP/105923/MEG/Restin/icaclass/105923_MEG_5-Restin_icaclass_vs.mat from hcp-openaccess\n",
      "Downloading /mnt/HCP/105923/MEG/Restin/icaclass/105923_MEG_5-Restin_icaclass_vs.txt from hcp-openaccess\n",
      "Downloading /mnt/HCP/105923/MEG/Restin/icaclass/105923_MEG_5-Restin_icaclass.mat from hcp-openaccess\n",
      "Downloading /mnt/HCP/105923/MEG/Restin/icaclass/105923_MEG_5-Restin_icaclass.txt from hcp-openaccess\n",
      "Elapsed time downloading hcp-openaccess from s3 00:00:18\n"
     ]
    }
   ],
   "source": [
    "hcp_prefix = 's3://hcp-openaccess/HCP_900'\n",
    "s3_keys = list()\n",
    "max_runs = 3\n",
    "run_inds = [0, 1, 2]\n",
    "for subject in subjects_rs:\n",
    "    hcp_data_types = [\n",
    "        'rest',\n",
    "    ]\n",
    "\n",
    "    hcp_outputs = [\n",
    "        'bads',\n",
    "        'ica'\n",
    "    ]\n",
    "\n",
    "    # allow for downloading fewer data\n",
    "    s3_keys = get_s3_keys_meg(\n",
    "        subject,\n",
    "        data_types=hcp_data_types,\n",
    "        hcp_path_bucket='HCP_900',\n",
    "        outputs=hcp_outputs,\n",
    "        run_inds=run_inds[:max_runs])\n",
    "#     s3_keys = [kk for kk in s3_keys if 'config' in kk]\n",
    "\n",
    "    download_from_s3_bucket(\n",
    "        bucket='hcp-openaccess',\n",
    "        out_path='/mnt/HCP', key_list=s3_keys, aws_key=aws_key,\n",
    "        aws_secret=aws_secret,\n",
    "        prefix='HCP_900')\n",
    "    break"
   ]
  },
  {
   "cell_type": "code",
   "execution_count": 10,
   "metadata": {
    "collapsed": false
   },
   "outputs": [
    {
     "data": {
      "text/plain": [
       "[]"
      ]
     },
     "execution_count": 10,
     "metadata": {},
     "output_type": "execute_result"
    }
   ],
   "source": [
    "s3_keys"
   ]
  },
  {
   "cell_type": "code",
   "execution_count": 6,
   "metadata": {
    "collapsed": false
   },
   "outputs": [],
   "source": [
    "aws_key_dyn, aws_secret_dyn = get_aws_credentials(\n",
    "    op.join(op.expanduser(\"~\"), \"mne-hcp-aws\", 'aws_details.csv'))"
   ]
  },
  {
   "cell_type": "code",
   "execution_count": 7,
   "metadata": {
    "collapsed": false
   },
   "outputs": [
    {
     "name": "stdout",
     "output_type": "stream",
     "text": [
      "Downloading /mnt/hcp-meg/105923/rest-run0-preproc-raw.fif from hcp-meg-data\n",
      "Downloading /mnt/hcp-meg/105923/rest-run1-preproc-raw.fif from hcp-meg-data\n",
      "Downloading /mnt/hcp-meg/105923/rest-run2-preproc-raw.fif from hcp-meg-data\n",
      "Elapsed time downloading hcp-meg-data from s3 00:00:32\n"
     ]
    }
   ],
   "source": [
    "hcp_prefix = 's3://hcp-openaccess/HCP_900'\n",
    "s3_keys = list()\n",
    "max_runs = 3\n",
    "run_inds = [0, 1, 2]\n",
    "for subject in subjects_rs:\n",
    "    s3_keys = s3_glob(key_pattern='hcp-meg/%s/rest*raw.fif' % subject, bucket='hcp-meg-data',\n",
    "         aws_key=aws_key_dyn, aws_secret=aws_secret_dyn, prefix='')\n",
    "    download_from_s3_bucket(\n",
    "        bucket='hcp-meg-data',\n",
    "        out_path='/mnt', key_list=s3_keys,\n",
    "        aws_key=aws_key_dyn,\n",
    "        aws_secret=aws_secret_dyn,\n",
    "        prefix='')\n",
    "    break"
   ]
  }
 ],
 "metadata": {
  "kernelspec": {
   "display_name": "Python 2",
   "language": "python",
   "name": "python2"
  },
  "language_info": {
   "codemirror_mode": {
    "name": "ipython",
    "version": 2
   },
   "file_extension": ".py",
   "mimetype": "text/x-python",
   "name": "python",
   "nbconvert_exporter": "python",
   "pygments_lexer": "ipython2",
   "version": "2.7.12"
  }
 },
 "nbformat": 4,
 "nbformat_minor": 0
}
