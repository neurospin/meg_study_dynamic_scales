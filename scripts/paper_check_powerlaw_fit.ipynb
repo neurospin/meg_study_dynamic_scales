{
 "cells": [
  {
   "cell_type": "code",
   "execution_count": 1,
   "metadata": {
    "collapsed": true
   },
   "outputs": [],
   "source": [
    "%reload_ext autoreload\n",
    "%autoreload 2"
   ]
  },
  {
   "cell_type": "code",
   "execution_count": 9,
   "metadata": {
    "collapsed": false
   },
   "outputs": [
    {
     "name": "stdout",
     "output_type": "stream",
     "text": [
      "biomag_download_info.ipynb  download_output.txt\r\n"
     ]
    }
   ],
   "source": [
    "ls *load*"
   ]
  },
  {
   "cell_type": "code",
   "execution_count": 18,
   "metadata": {
    "collapsed": false
   },
   "outputs": [
    {
     "name": "stdout",
     "output_type": "stream",
     "text": [
      "rest-run0-preproc-raw.fif  rest-run1-preproc-raw.fif  rest-run2-preproc-raw.fif\r\n"
     ]
    }
   ],
   "source": [
    "ls /mnt/hcp-meg/105923/"
   ]
  },
  {
   "cell_type": "code",
   "execution_count": 538,
   "metadata": {
    "collapsed": true
   },
   "outputs": [],
   "source": [
    "import os.path as op\n",
    "import mne\n",
    "\n",
    "import matplotlib.pyplot as plt\n",
    "import matplotlib\n",
    "\n",
    "import seaborn as sns\n",
    "\n",
    "import hcp\n",
    "from hcp import preprocessing as preproc\n",
    "from hcp import io\n",
    "\n",
    "from scipy.signal import welch\n",
    "import numpy as np\n",
    "\n",
    "from sklearn.linear_model import LinearRegression"
   ]
  },
  {
   "cell_type": "code",
   "execution_count": 44,
   "metadata": {
    "collapsed": true
   },
   "outputs": [],
   "source": [
    "sns.set_style('ticks')"
   ]
  },
  {
   "cell_type": "code",
   "execution_count": 20,
   "metadata": {
    "collapsed": false
   },
   "outputs": [],
   "source": [
    "matplotlib.rc('font', family='sans-serif') \n",
    "matplotlib.rc('font', serif='Helvetica Neue') \n",
    "matplotlib.rc('text', usetex='false') "
   ]
  },
  {
   "cell_type": "code",
   "execution_count": 23,
   "metadata": {
    "collapsed": true
   },
   "outputs": [],
   "source": [
    "recordings_path = '/mnt/hcp-meg'\n",
    "subject = '105923'"
   ]
  },
  {
   "cell_type": "code",
   "execution_count": 24,
   "metadata": {
    "collapsed": false
   },
   "outputs": [],
   "source": [
    "fname = op.join(recordings_path, subject, 'rest-run0-preproc-raw.fif')"
   ]
  },
  {
   "cell_type": "code",
   "execution_count": 96,
   "metadata": {
    "collapsed": false
   },
   "outputs": [
    {
     "name": "stdout",
     "output_type": "stream",
     "text": [
      "Opening raw data file /mnt/hcp-meg/105923/rest-run0-preproc-raw.fif...\n",
      "Isotrak not found\n",
      "    Range : 0 ... 749069 =      0.000 ...   368.182 secs\n",
      "Ready.\n",
      "Current compensation grade : 0\n",
      "Annotation expanding outside the data range. Limiting to the end of data.\n"
     ]
    },
    {
     "name": "stderr",
     "output_type": "stream",
     "text": [
      "<ipython-input-96-826c3e305aa6>:1: RuntimeWarning: Annotation expanding outside the data range. Limiting to the end of data.\n",
      "  raw = mne.io.read_raw_fif(fname)\n"
     ]
    }
   ],
   "source": [
    "raw = mne.io.read_raw_fif(fname)"
   ]
  },
  {
   "cell_type": "code",
   "execution_count": 97,
   "metadata": {
    "collapsed": false
   },
   "outputs": [
    {
     "name": "stdout",
     "output_type": "stream",
     "text": [
      "Reading 0 ... 749069  =      0.000 ...   368.182 secs...\n"
     ]
    },
    {
     "data": {
      "text/plain": [
       "<Raw  |  rest-run0-preproc-raw.fif, n_channels x n_times : 248 x 749070 (368.2 sec), ~1.38 GB, data loaded>"
      ]
     },
     "execution_count": 97,
     "metadata": {},
     "output_type": "execute_result"
    }
   ],
   "source": [
    "raw.load_data()"
   ]
  },
  {
   "cell_type": "code",
   "execution_count": 98,
   "metadata": {
    "collapsed": true
   },
   "outputs": [],
   "source": [
    "def _preprocess_raw(raw, hcp_params, ica_sel):\n",
    "    # construct MNE annotations\n",
    "    annots = hcp.read_annot(**hcp_params)\n",
    "    bad_seg = (annots['segments']['all']) / raw.info['sfreq']\n",
    "    annotations = mne.Annotations(\n",
    "        bad_seg[:, 0], (bad_seg[:, 1] - bad_seg[:, 0]),\n",
    "        description='bad')\n",
    "\n",
    "    raw.annotations = annotations\n",
    "    raw.info['bads'] += annots['channels']['all']\n",
    "    raw.pick_types(meg=True, ref_meg=False)\n",
    "\n",
    "    # read ICA and remove EOG ECG or keep brain components\n",
    "    ica_mat = hcp.read_ica(**hcp_params)\n",
    "    if ica_sel == 'ecg_eog':\n",
    "        exclude = annots['ica']['ecg_eog_ic']\n",
    "    elif ica_sel == 'brain':\n",
    "        exclude = [ii for ii in range(annots['ica']['total_ic_number'][0])\n",
    "                   if ii not in annots['ica']['brain_ic_vs']]\n",
    "\n",
    "    preproc.apply_ica_hcp(raw, ica_mat=ica_mat, exclude=exclude)\n",
    "    # add back missing channels\n",
    "    raw = preproc.interpolate_missing(raw, **hcp_params)\n",
    "    return raw"
   ]
  },
  {
   "cell_type": "code",
   "execution_count": 99,
   "metadata": {
    "collapsed": false
   },
   "outputs": [
    {
     "name": "stdout",
     "output_type": "stream",
     "text": [
      "Reading 4D PDF file /mnt/HCP/105923/unprocessed/MEG/3-Restin/4D/c,rfDC...\n",
      "Creating Neuromag info structure ...\n",
      "... Setting channel info structure.\n",
      "... no headshape file supplied, doing nothing.\n",
      "Currently direct inclusion of 4D weight tables is not supported. For critical use cases please take into account the MNE command \"mne_create_comp_data\" to include weights as printed out by the 4D \"print_table\" routine.\n",
      "Creating RawArray with float64 data, n_channels=248, n_times=749070\n",
      "Current compensation grade : 0\n",
      "    Range : 0 ... 749069 =      0.000 ...   368.182 secs\n",
      "Ready.\n",
      "    Computing dot products for 245 coils...\n",
      "    Computing cross products for coils 245 x 3 coils...\n",
      "    Preparing the mapping matrix...\n",
      "    [Truncate at 84 missing 0.0001]\n"
     ]
    }
   ],
   "source": [
    "hcp_params = dict(subject=subject, hcp_path=op.join('/mnt', 'HCP'),\n",
    "                  data_type='rest')\n",
    "\n",
    "raw = _preprocess_raw(raw, hcp_params=hcp_params, ica_sel='ecg_eog')"
   ]
  },
  {
   "cell_type": "code",
   "execution_count": 539,
   "metadata": {
    "collapsed": false
   },
   "outputs": [],
   "source": [
    "freqs, psd = welch(raw[100][0], nperseg=2**16,fs=raw.info['sfreq'])"
   ]
  },
  {
   "cell_type": "markdown",
   "metadata": {},
   "source": [
    "## works with with natural log"
   ]
  },
  {
   "cell_type": "code",
   "execution_count": 540,
   "metadata": {
    "collapsed": false
   },
   "outputs": [
    {
     "name": "stdout",
     "output_type": "stream",
     "text": [
      "4.85203026392\n"
     ]
    },
    {
     "data": {
      "image/png": "[encoded data removed]",
      "text/plain": [
       "<matplotlib.figure.Figure at 0x7f32daad2190>"
      ]
     },
     "metadata": {},
     "output_type": "display_data"
    }
   ],
   "source": [
    "fmask = (freqs <= 4) & (freqs > 0)\n",
    "lm = LinearRegression(normalize=False).fit(\n",
    "   np.log(freqs[fmask][:, None]),\n",
    "   np.log(psd.T[fmask]),\n",
    "   )\n",
    "frange = np.log(freqs[fmask].max()) - np.log(freqs[fmask].min())\n",
    "print(frange)\n",
    "plt.figure()\n",
    "plt.plot(np.log(freqs[fmask][:, None]), np.log(psd.T[fmask]))\n",
    "plt.plot(np.log(freqs[fmask][[0, -1]]),\n",
    "         np.array([lm.intercept_,\n",
    "                   lm.intercept_ + lm.coef_ * frange]) + frange, color='red',\n",
    "         label='beta=%0.3f' % lm.coef_[0])\n",
    "plt.legend(loc='best')\n",
    "sns.despine(trim=True)"
   ]
  },
  {
   "cell_type": "markdown",
   "metadata": {},
   "source": [
    "## works with with decadic log"
   ]
  },
  {
   "cell_type": "code",
   "execution_count": 541,
   "metadata": {
    "collapsed": false
   },
   "outputs": [
    {
     "data": {
      "image/png": "[encoded data removed]",
      "text/plain": [
       "<matplotlib.figure.Figure at 0x7f32db2def50>"
      ]
     },
     "metadata": {},
     "output_type": "display_data"
    }
   ],
   "source": [
    "fmask = (freqs <= 4) & (freqs > 0)\n",
    "lm = LinearRegression(normalize=False).fit(\n",
    "   np.log10(freqs[fmask][:, None]),\n",
    "   np.log10(psd.T[fmask]),\n",
    "   )\n",
    "frange = np.log10(freqs[fmask].max()) - np.log10(freqs[fmask].min())\n",
    "plt.figure()\n",
    "plt.plot(np.log10(freqs[fmask][:, None]), np.log10(psd.T[fmask]))\n",
    "plt.plot(np.log10(freqs[fmask][[0, -1]]),\n",
    "         np.array([lm.intercept_,\n",
    "                   lm.intercept_ + lm.coef_ * frange]) + frange, color='red',\n",
    "         label='beta=%0.3f' % lm.coef_[0])\n",
    "plt.legend(loc='best')\n",
    "sns.despine(trim=True)"
   ]
  }
 ],
 "metadata": {
  "kernelspec": {
   "display_name": "Python 2",
   "language": "python",
   "name": "python2"
  },
  "language_info": {
   "codemirror_mode": {
    "name": "ipython",
    "version": 2
   },
   "file_extension": ".py",
   "mimetype": "text/x-python",
   "name": "python",
   "nbconvert_exporter": "python",
   "pygments_lexer": "ipython2",
   "version": "2.7.12"
  }
 },
 "nbformat": 4,
 "nbformat_minor": 0
}
